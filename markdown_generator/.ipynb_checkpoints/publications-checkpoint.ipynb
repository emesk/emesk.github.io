{
 "cells": [
  {
   "cell_type": "markdown",
   "metadata": {},
   "source": [
    "# Publications markdown generator for academicpages\n",
    "\n",
    "Takes a TSV of publications with metadata and converts them for use with [academicpages.github.io](academicpages.github.io). This is an interactive Jupyter notebook ([see more info here](http://jupyter-notebook-beginner-guide.readthedocs.io/en/latest/what_is_jupyter.html)). The core python code is also in `publications.py`. Run either from the `markdown_generator` folder after replacing `publications.tsv` with one containing your data.\n",
    "\n",
    "TODO: Make this work with BibTex and other databases of citations, rather than Stuart's non-standard TSV format and citation style.\n"
   ]
  },
  {
   "cell_type": "markdown",
   "metadata": {},
   "source": [
    "## Data format\n",
    "\n",
    "The TSV needs to have the following columns: pub_date, title, venue, excerpt, citation, site_url, and paper_url, with a header at the top. \n",
    "\n",
    "- `excerpt` and `paper_url` can be blank, but the others must have values. \n",
    "- `pub_date` must be formatted as YYYY-MM-DD.\n",
    "- `url_slug` will be the descriptive part of the .md file and the permalink URL for the page about the paper. The .md file will be `YYYY-MM-DD-[url_slug].md` and the permalink will be `https://[yourdomain]/publications/YYYY-MM-DD-[url_slug]`\n",
    "\n",
    "This is how the raw file looks (it doesn't look pretty, use a spreadsheet or other program to edit and create)."
   ]
  },
  {
   "cell_type": "code",
   "execution_count": 17,
   "metadata": {},
   "outputs": [
    {
     "name": "stdout",
     "output_type": "stream",
     "text": [
      "pub_date\ttitle\tvenue\tcitation\n",
      "2011-1\tNonlinear Adaptive Flight Control System for Unmanned Aerial Vehicle: A Nonlinear Dynamic Inversion Based Approach\tLambert Publishing\t\"Khan, Sohail; \"\n",
      "2013-1\tDynamics of wind-turbine driven Self-Excited Induction Generator with online parameter calculation\tIECON 2013-39th Annual Conference of the IEEE Industrial Electronics Society\t\"Khan, Sohail; Shahzad, Mohsin; Palensky, Peter; Jahangir, Khurram; \"\n",
      "2014-1\t\"Survey, Illustrations and Limits of Game Theory for Cyber-Physical Energy Systems\"\tat - Automatisierungstechnik\t\"Hadrien Bosetti, Sohail Khan, Hamid Aghaie, Peter Palensky; \"\n",
      "2014-2\tA replicator dynamics method for the unit commitment problem\t2014 Workshop on Modeling and Simulation of Cyber-Physical Energy Systems (MSCPES)\t\"Khan, Sohail; Bosetti, Hadrien; Palensky, Peter; Gawlik, Wolfgang; \"\n",
      "2015-1\tReserve Capability Assessment Considering Correlated Uncertainty in Microgrid\tIEEE Transactions on Sustainable Energy\t\"Khan, Sohail; Gawlik, Wolfgang; Palensky, Peter; \"\n",
      "2016-1\tStochastic Battery Model for Aggregation of Thermostatically Controlled Loads\t\"2016 IEEE International Conference on Industrial Technology (ICIT), Taipei, Taiwan\"\t\"S. Khan, M. Shahzad, U. Habib, W. Gawlik and P. Palensky; \"\n",
      "2017-1\tTransient Stability in Oscillating Multi-Machine Systems using Lyapunov Vectors\tIEEE Transactions on Power Systems\t\"Khan, Hadrien Bosetti and Sohail; \"\n",
      "2018-1\tOn small signal frequency stability under virtual inertia and the role of PLLs\tEnergies\t\"Khan, Sohail; Bletterie, Benoit; Anta, Adolfo; Gawlik, Wolfgang; \"\n",
      "2016-1\tCo-simulation based platform for thermostatically controlled loads as a frequency reserve\t2016 Workshop on Modeling and Simulation of Cyber-Physical Energy Systems (MSCPES)\t\"Latif, Aadil; Khan, Sohail; Palensky, Peter; Wolfgang, Gawlik; \"\n",
      "2016-2\tAssessment and Allocation of Operational Flexibility in Power Systems with Distributed Resources\tCIRED\t\"Khan, Sohail; \"\n",
      "2018-2\tInnovative grid operation planning tool for the system operators\tCIRED\t\"Ataollah Moghim Khavari, Mohamed Shalaby, Giorgio Graditi, Roberto Ciavarella, Marialaura Di Somma, Maria Valenti, Helfried Brunner, Sawsan Henein, Sohail Khan, Jan Ringelstein, Melios Hadjikypris; \"\n",
      "2019-1\tPython based scenario design and parallel simulation method for transient rotor angle stability assessment in PowerFactory\t2019 IEEE Milan PowerTech\t\"Khan, Sohail; Latif, Aadil; \"\n",
      "2020-1\tOptimal energy interruption planning and generation re-dispatch for improving reliability during contingencies\t2020 IEEE Power & Energy Society Innovative Smart Grid Technologies Conference (ISGT)\t\"Khan, Sohail; Henein, Sawsan; Brunner, Helfried; \"\n",
      "2020-2\tOptimal placement of electric vehicle charging stations in the active distribution network\tIEEE Access\t\"Zeb, Muhammad Zulqarnain; Imran, Kashif; Khattak, Abraiz; Janjua, Abdul Kashif; Pal, Anamitra; Nadeem, Muhammad; Zhang, Jiangfeng; Khan, Sohail; \"\n",
      "2021-1\tEvaluation of sensitivity based coordinated volt-var control and local reactive power for voltage regulation and power exchange across system boundaries in smart distribution networks\tElectric Power Systems Research\t\"Khan, Sohail; Zehetbauer, Paul; Schwalbe, Roman; \"\n",
      "2022-1\tCalculation of reactive power requirement for voltage improvement at Mardan station\t2022 7th Asia Conference on Power and Electrical Engineering (ACPEE)\t\"Khan, Salman; Masood, Arsalan; Khan, Sohail; Shahid, Arqum; \"\n",
      "2021-2\t\"Database and Expert Systems Applications-DEXA 2021 Workshops: BIOKDD, IWCFS, MLKgraphs, AI-CARES, ProTime, AISys 2021, Virtual Event, September 27–30, 2021, Proceedings\"\tSpringerlink\t\"Kotsis, Gabriele; Tjoa, A Min; Khalil, Ismail; Moser, Bernhard; Mashkoor, Atif; Sametinger, Johannes; Fensel, Anna; Martinez-Gil, Jorge; Fischer, Lukas; Czech, Gerald; \"\n"
     ]
    }
   ],
   "source": [
    "!type citations.tsv"
   ]
  },
  {
   "cell_type": "markdown",
   "metadata": {},
   "source": [
    "## Import pandas\n",
    "\n",
    "We are using the very handy pandas library for dataframes."
   ]
  },
  {
   "cell_type": "code",
   "execution_count": 18,
   "metadata": {},
   "outputs": [],
   "source": [
    "import pandas as pd"
   ]
  },
  {
   "cell_type": "markdown",
   "metadata": {},
   "source": [
    "## Import TSV\n",
    "\n",
    "Pandas makes this easy with the read_csv function. We are using a TSV, so we specify the separator as a tab, or `\\t`.\n",
    "\n",
    "I found it important to put this data in a tab-separated values format, because there are a lot of commas in this kind of data and comma-separated values can get messed up. However, you can modify the import statement, as pandas also has read_excel(), read_json(), and others."
   ]
  },
  {
   "cell_type": "code",
   "execution_count": 29,
   "metadata": {},
   "outputs": [
    {
     "data": {
      "text/html": [
       "<div>\n",
       "<style scoped>\n",
       "    .dataframe tbody tr th:only-of-type {\n",
       "        vertical-align: middle;\n",
       "    }\n",
       "\n",
       "    .dataframe tbody tr th {\n",
       "        vertical-align: top;\n",
       "    }\n",
       "\n",
       "    .dataframe thead th {\n",
       "        text-align: right;\n",
       "    }\n",
       "</style>\n",
       "<table border=\"1\" class=\"dataframe\">\n",
       "  <thead>\n",
       "    <tr style=\"text-align: right;\">\n",
       "      <th></th>\n",
       "      <th>pub_date</th>\n",
       "      <th>title</th>\n",
       "      <th>venue</th>\n",
       "      <th>citation</th>\n",
       "    </tr>\n",
       "  </thead>\n",
       "  <tbody>\n",
       "    <tr>\n",
       "      <th>0</th>\n",
       "      <td>2011-1</td>\n",
       "      <td>Nonlinear Adaptive Flight Control System for U...</td>\n",
       "      <td>Lambert Publishing</td>\n",
       "      <td>Khan, Sohail;</td>\n",
       "    </tr>\n",
       "    <tr>\n",
       "      <th>1</th>\n",
       "      <td>2013-1</td>\n",
       "      <td>Dynamics of wind-turbine driven Self-Excited I...</td>\n",
       "      <td>IECON 2013-39th Annual Conference of the IEEE ...</td>\n",
       "      <td>Khan, Sohail; Shahzad, Mohsin; Palensky, Peter...</td>\n",
       "    </tr>\n",
       "    <tr>\n",
       "      <th>2</th>\n",
       "      <td>2014-1</td>\n",
       "      <td>Survey, Illustrations and Limits of Game Theor...</td>\n",
       "      <td>at - Automatisierungstechnik</td>\n",
       "      <td>Hadrien Bosetti, Sohail Khan, Hamid Aghaie, Pe...</td>\n",
       "    </tr>\n",
       "    <tr>\n",
       "      <th>3</th>\n",
       "      <td>2014-2</td>\n",
       "      <td>A replicator dynamics method for the unit comm...</td>\n",
       "      <td>2014 Workshop on Modeling and Simulation of Cy...</td>\n",
       "      <td>Khan, Sohail; Bosetti, Hadrien; Palensky, Pete...</td>\n",
       "    </tr>\n",
       "    <tr>\n",
       "      <th>4</th>\n",
       "      <td>2015-1</td>\n",
       "      <td>Reserve Capability Assessment Considering Corr...</td>\n",
       "      <td>IEEE Transactions on Sustainable Energy</td>\n",
       "      <td>Khan, Sohail; Gawlik, Wolfgang; Palensky, Peter;</td>\n",
       "    </tr>\n",
       "    <tr>\n",
       "      <th>5</th>\n",
       "      <td>2016-1</td>\n",
       "      <td>Stochastic Battery Model for Aggregation of Th...</td>\n",
       "      <td>2016 IEEE International Conference on Industri...</td>\n",
       "      <td>S. Khan, M. Shahzad, U. Habib, W. Gawlik and P...</td>\n",
       "    </tr>\n",
       "    <tr>\n",
       "      <th>6</th>\n",
       "      <td>2017-1</td>\n",
       "      <td>Transient Stability in Oscillating Multi-Machi...</td>\n",
       "      <td>IEEE Transactions on Power Systems</td>\n",
       "      <td>Khan, Hadrien Bosetti and Sohail;</td>\n",
       "    </tr>\n",
       "    <tr>\n",
       "      <th>7</th>\n",
       "      <td>2018-1</td>\n",
       "      <td>On small signal frequency stability under virt...</td>\n",
       "      <td>Energies</td>\n",
       "      <td>Khan, Sohail; Bletterie, Benoit; Anta, Adolfo;...</td>\n",
       "    </tr>\n",
       "    <tr>\n",
       "      <th>8</th>\n",
       "      <td>2016-1</td>\n",
       "      <td>Co-simulation based platform for thermostatica...</td>\n",
       "      <td>2016 Workshop on Modeling and Simulation of Cy...</td>\n",
       "      <td>Latif, Aadil; Khan, Sohail; Palensky, Peter; W...</td>\n",
       "    </tr>\n",
       "    <tr>\n",
       "      <th>9</th>\n",
       "      <td>2016-2</td>\n",
       "      <td>Assessment and Allocation of Operational Flexi...</td>\n",
       "      <td>CIRED</td>\n",
       "      <td>Khan, Sohail;</td>\n",
       "    </tr>\n",
       "    <tr>\n",
       "      <th>10</th>\n",
       "      <td>2018-2</td>\n",
       "      <td>Innovative grid operation planning tool for th...</td>\n",
       "      <td>CIRED</td>\n",
       "      <td>Ataollah Moghim Khavari, Mohamed Shalaby, Gior...</td>\n",
       "    </tr>\n",
       "    <tr>\n",
       "      <th>11</th>\n",
       "      <td>2019-1</td>\n",
       "      <td>Python based scenario design and parallel simu...</td>\n",
       "      <td>2019 IEEE Milan PowerTech</td>\n",
       "      <td>Khan, Sohail; Latif, Aadil;</td>\n",
       "    </tr>\n",
       "    <tr>\n",
       "      <th>12</th>\n",
       "      <td>2020-1</td>\n",
       "      <td>Optimal energy interruption planning and gener...</td>\n",
       "      <td>2020 IEEE Power &amp; Energy Society Innovative Sm...</td>\n",
       "      <td>Khan, Sohail; Henein, Sawsan; Brunner, Helfried;</td>\n",
       "    </tr>\n",
       "    <tr>\n",
       "      <th>13</th>\n",
       "      <td>2020-2</td>\n",
       "      <td>Optimal placement of electric vehicle charging...</td>\n",
       "      <td>IEEE Access</td>\n",
       "      <td>Zeb, Muhammad Zulqarnain; Imran, Kashif; Khatt...</td>\n",
       "    </tr>\n",
       "    <tr>\n",
       "      <th>14</th>\n",
       "      <td>2021-1</td>\n",
       "      <td>Evaluation of sensitivity based coordinated vo...</td>\n",
       "      <td>Electric Power Systems Research</td>\n",
       "      <td>Khan, Sohail; Zehetbauer, Paul; Schwalbe, Roman;</td>\n",
       "    </tr>\n",
       "    <tr>\n",
       "      <th>15</th>\n",
       "      <td>2022-1</td>\n",
       "      <td>Calculation of reactive power requirement for ...</td>\n",
       "      <td>2022 7th Asia Conference on Power and Electric...</td>\n",
       "      <td>Khan, Salman; Masood, Arsalan; Khan, Sohail; S...</td>\n",
       "    </tr>\n",
       "  </tbody>\n",
       "</table>\n",
       "</div>"
      ],
      "text/plain": [
       "   pub_date                                              title  \\\n",
       "0    2011-1  Nonlinear Adaptive Flight Control System for U...   \n",
       "1    2013-1  Dynamics of wind-turbine driven Self-Excited I...   \n",
       "2    2014-1  Survey, Illustrations and Limits of Game Theor...   \n",
       "3    2014-2  A replicator dynamics method for the unit comm...   \n",
       "4    2015-1  Reserve Capability Assessment Considering Corr...   \n",
       "5    2016-1  Stochastic Battery Model for Aggregation of Th...   \n",
       "6    2017-1  Transient Stability in Oscillating Multi-Machi...   \n",
       "7    2018-1  On small signal frequency stability under virt...   \n",
       "8    2016-1  Co-simulation based platform for thermostatica...   \n",
       "9    2016-2  Assessment and Allocation of Operational Flexi...   \n",
       "10   2018-2  Innovative grid operation planning tool for th...   \n",
       "11   2019-1  Python based scenario design and parallel simu...   \n",
       "12   2020-1  Optimal energy interruption planning and gener...   \n",
       "13   2020-2  Optimal placement of electric vehicle charging...   \n",
       "14   2021-1  Evaluation of sensitivity based coordinated vo...   \n",
       "15   2022-1  Calculation of reactive power requirement for ...   \n",
       "\n",
       "                                                venue  \\\n",
       "0                                  Lambert Publishing   \n",
       "1   IECON 2013-39th Annual Conference of the IEEE ...   \n",
       "2                        at - Automatisierungstechnik   \n",
       "3   2014 Workshop on Modeling and Simulation of Cy...   \n",
       "4             IEEE Transactions on Sustainable Energy   \n",
       "5   2016 IEEE International Conference on Industri...   \n",
       "6                  IEEE Transactions on Power Systems   \n",
       "7                                            Energies   \n",
       "8   2016 Workshop on Modeling and Simulation of Cy...   \n",
       "9                                               CIRED   \n",
       "10                                              CIRED   \n",
       "11                          2019 IEEE Milan PowerTech   \n",
       "12  2020 IEEE Power & Energy Society Innovative Sm...   \n",
       "13                                        IEEE Access   \n",
       "14                    Electric Power Systems Research   \n",
       "15  2022 7th Asia Conference on Power and Electric...   \n",
       "\n",
       "                                             citation  \n",
       "0                                      Khan, Sohail;   \n",
       "1   Khan, Sohail; Shahzad, Mohsin; Palensky, Peter...  \n",
       "2   Hadrien Bosetti, Sohail Khan, Hamid Aghaie, Pe...  \n",
       "3   Khan, Sohail; Bosetti, Hadrien; Palensky, Pete...  \n",
       "4   Khan, Sohail; Gawlik, Wolfgang; Palensky, Peter;   \n",
       "5   S. Khan, M. Shahzad, U. Habib, W. Gawlik and P...  \n",
       "6                  Khan, Hadrien Bosetti and Sohail;   \n",
       "7   Khan, Sohail; Bletterie, Benoit; Anta, Adolfo;...  \n",
       "8   Latif, Aadil; Khan, Sohail; Palensky, Peter; W...  \n",
       "9                                      Khan, Sohail;   \n",
       "10  Ataollah Moghim Khavari, Mohamed Shalaby, Gior...  \n",
       "11                       Khan, Sohail; Latif, Aadil;   \n",
       "12  Khan, Sohail; Henein, Sawsan; Brunner, Helfried;   \n",
       "13  Zeb, Muhammad Zulqarnain; Imran, Kashif; Khatt...  \n",
       "14  Khan, Sohail; Zehetbauer, Paul; Schwalbe, Roman;   \n",
       "15  Khan, Salman; Masood, Arsalan; Khan, Sohail; S...  "
      ]
     },
     "execution_count": 29,
     "metadata": {},
     "output_type": "execute_result"
    }
   ],
   "source": [
    "publications = pd.read_csv(\"citations.tsv\", sep=\"\\t\", header=0)\n",
    "publications\n"
   ]
  },
  {
   "cell_type": "markdown",
   "metadata": {},
   "source": [
    "## Escape special characters\n",
    "\n",
    "YAML is very picky about how it takes a valid string, so we are replacing single and double quotes (and ampersands) with their HTML encoded equivilents. This makes them look not so readable in raw format, but they are parsed and rendered nicely."
   ]
  },
  {
   "cell_type": "code",
   "execution_count": 30,
   "metadata": {},
   "outputs": [],
   "source": [
    "html_escape_table = {\n",
    "    \"&\": \"&amp;\",\n",
    "    '\"': \"&quot;\",\n",
    "    \"'\": \"&apos;\"\n",
    "    }\n",
    "\n",
    "def html_escape(text):\n",
    "    \"\"\"Produce entities within text.\"\"\"\n",
    "    return \"\".join(html_escape_table.get(c,c) for c in text)"
   ]
  },
  {
   "cell_type": "markdown",
   "metadata": {},
   "source": [
    "## Creating the markdown files\n",
    "\n",
    "This is where the heavy lifting is done. This loops through all the rows in the TSV dataframe, then starts to concatentate a big string (```md```) that contains the markdown for each type. It does the YAML metadata first, then does the description for the individual page."
   ]
  },
  {
   "cell_type": "code",
   "execution_count": 33,
   "metadata": {},
   "outputs": [
    {
     "ename": "AttributeError",
     "evalue": "'Series' object has no attribute 'paper_url'",
     "output_type": "error",
     "traceback": [
      "\u001b[1;31m---------------------------------------------------------------------------\u001b[0m",
      "\u001b[1;31mAttributeError\u001b[0m                            Traceback (most recent call last)",
      "Cell \u001b[1;32mIn [33], line 25\u001b[0m\n\u001b[0;32m     21\u001b[0m md \u001b[38;5;241m+\u001b[39m\u001b[38;5;241m=\u001b[39m \u001b[38;5;124m\"\u001b[39m\u001b[38;5;130;01m\\n\u001b[39;00m\u001b[38;5;124mdate: \u001b[39m\u001b[38;5;124m\"\u001b[39m \u001b[38;5;241m+\u001b[39m \u001b[38;5;28mstr\u001b[39m(item\u001b[38;5;241m.\u001b[39mpub_date) \n\u001b[0;32m     23\u001b[0m md \u001b[38;5;241m+\u001b[39m\u001b[38;5;241m=\u001b[39m \u001b[38;5;124m\"\u001b[39m\u001b[38;5;130;01m\\n\u001b[39;00m\u001b[38;5;124mvenue: \u001b[39m\u001b[38;5;124m'\u001b[39m\u001b[38;5;124m\"\u001b[39m \u001b[38;5;241m+\u001b[39m html_escape(item\u001b[38;5;241m.\u001b[39mvenue) \u001b[38;5;241m+\u001b[39m \u001b[38;5;124m\"\u001b[39m\u001b[38;5;124m'\u001b[39m\u001b[38;5;124m\"\u001b[39m\n\u001b[1;32m---> 25\u001b[0m \u001b[38;5;28;01mif\u001b[39;00m \u001b[38;5;28mlen\u001b[39m(\u001b[38;5;28mstr\u001b[39m(\u001b[43mitem\u001b[49m\u001b[38;5;241;43m.\u001b[39;49m\u001b[43mpaper_url\u001b[49m)) \u001b[38;5;241m>\u001b[39m \u001b[38;5;241m5\u001b[39m:\n\u001b[0;32m     26\u001b[0m     md \u001b[38;5;241m+\u001b[39m\u001b[38;5;241m=\u001b[39m \u001b[38;5;124m\"\u001b[39m\u001b[38;5;130;01m\\n\u001b[39;00m\u001b[38;5;124mpaperurl: \u001b[39m\u001b[38;5;124m'\u001b[39m\u001b[38;5;124m\"\u001b[39m \u001b[38;5;241m+\u001b[39m item\u001b[38;5;241m.\u001b[39mpaper_url \u001b[38;5;241m+\u001b[39m \u001b[38;5;124m\"\u001b[39m\u001b[38;5;124m'\u001b[39m\u001b[38;5;124m\"\u001b[39m\n\u001b[0;32m     28\u001b[0m md \u001b[38;5;241m+\u001b[39m\u001b[38;5;241m=\u001b[39m \u001b[38;5;124m\"\u001b[39m\u001b[38;5;130;01m\\n\u001b[39;00m\u001b[38;5;124mcitation: \u001b[39m\u001b[38;5;124m'\u001b[39m\u001b[38;5;124m\"\u001b[39m \u001b[38;5;241m+\u001b[39m html_escape(item\u001b[38;5;241m.\u001b[39mcitation) \u001b[38;5;241m+\u001b[39m \u001b[38;5;124m\"\u001b[39m\u001b[38;5;124m'\u001b[39m\u001b[38;5;124m\"\u001b[39m\n",
      "File \u001b[1;32mC:\\ProgramData\\Miniconda3\\envs\\pandapowerpipes\\lib\\site-packages\\pandas\\core\\generic.py:5902\u001b[0m, in \u001b[0;36mNDFrame.__getattr__\u001b[1;34m(self, name)\u001b[0m\n\u001b[0;32m   5895\u001b[0m \u001b[38;5;28;01mif\u001b[39;00m (\n\u001b[0;32m   5896\u001b[0m     name \u001b[38;5;129;01mnot\u001b[39;00m \u001b[38;5;129;01min\u001b[39;00m \u001b[38;5;28mself\u001b[39m\u001b[38;5;241m.\u001b[39m_internal_names_set\n\u001b[0;32m   5897\u001b[0m     \u001b[38;5;129;01mand\u001b[39;00m name \u001b[38;5;129;01mnot\u001b[39;00m \u001b[38;5;129;01min\u001b[39;00m \u001b[38;5;28mself\u001b[39m\u001b[38;5;241m.\u001b[39m_metadata\n\u001b[0;32m   5898\u001b[0m     \u001b[38;5;129;01mand\u001b[39;00m name \u001b[38;5;129;01mnot\u001b[39;00m \u001b[38;5;129;01min\u001b[39;00m \u001b[38;5;28mself\u001b[39m\u001b[38;5;241m.\u001b[39m_accessors\n\u001b[0;32m   5899\u001b[0m     \u001b[38;5;129;01mand\u001b[39;00m \u001b[38;5;28mself\u001b[39m\u001b[38;5;241m.\u001b[39m_info_axis\u001b[38;5;241m.\u001b[39m_can_hold_identifiers_and_holds_name(name)\n\u001b[0;32m   5900\u001b[0m ):\n\u001b[0;32m   5901\u001b[0m     \u001b[38;5;28;01mreturn\u001b[39;00m \u001b[38;5;28mself\u001b[39m[name]\n\u001b[1;32m-> 5902\u001b[0m \u001b[38;5;28;01mreturn\u001b[39;00m \u001b[38;5;28;43mobject\u001b[39;49m\u001b[38;5;241;43m.\u001b[39;49m\u001b[38;5;21;43m__getattribute__\u001b[39;49m\u001b[43m(\u001b[49m\u001b[38;5;28;43mself\u001b[39;49m\u001b[43m,\u001b[49m\u001b[43m \u001b[49m\u001b[43mname\u001b[49m\u001b[43m)\u001b[49m\n",
      "\u001b[1;31mAttributeError\u001b[0m: 'Series' object has no attribute 'paper_url'"
     ]
    }
   ],
   "source": [
    "import os\n",
    "for row, item in publications.iterrows():\n",
    "    \n",
    "    # md_filename = str(item.pub_date) + \"-\" + item.url_slug + \".md\"\n",
    "    # html_filename = str(item.pub_date) + \"-\" + item.url_slug\n",
    "    md_filename = str(item.pub_date)  + \".md\"\n",
    "    html_filename = str(item.pub_date) \n",
    "    year = item.pub_date[:4]\n",
    "    \n",
    "    ## YAML variables\n",
    "    \n",
    "    md = \"---\\ntitle: \\\"\"   + item.title + '\"\\n'\n",
    "    \n",
    "    md += \"\"\"collection: publications\"\"\"\n",
    "    \n",
    "    md += \"\"\"\\npermalink: /publication/\"\"\" + html_filename\n",
    "    \n",
    "    #if len(str(item.excerpt)) > 5:\n",
    "    #    md += \"\\nexcerpt: '\" + html_escape(item.excerpt) + \"'\"\n",
    "    \n",
    "    md += \"\\ndate: \" + str(item.pub_date) \n",
    "    \n",
    "    md += \"\\nvenue: '\" + html_escape(item.venue) + \"'\"\n",
    "    \n",
    "    #if len(str(item.paper_url)) > 5:\n",
    "    #    md += \"\\npaperurl: '\" + item.paper_url + \"'\"\n",
    "    \n",
    "    md += \"\\ncitation: '\" + html_escape(item.citation) + \"'\"\n",
    "    \n",
    "    md += \"\\n---\"\n",
    "    \n",
    "    ## Markdown description for individual page\n",
    "        \n",
    "    if len(str(item.excerpt)) > 5:\n",
    "        md += \"\\n\" + html_escape(item.excerpt) + \"\\n\"\n",
    "    \n",
    "    if len(str(item.paper_url)) > 5:\n",
    "        md += \"\\n[Download paper here](\" + item.paper_url + \")\\n\" \n",
    "        \n",
    "    md += \"\\nRecommended citation: \" + item.citation\n",
    "    \n",
    "    md_filename = os.path.basename(md_filename)\n",
    "       \n",
    "    with open(\"../_publications/\" + md_filename, 'w') as f:\n",
    "        f.write(md)"
   ]
  },
  {
   "cell_type": "markdown",
   "metadata": {},
   "source": [
    "These files are in the publications directory, one directory below where we're working from."
   ]
  },
  {
   "cell_type": "code",
   "execution_count": 15,
   "metadata": {},
   "outputs": [],
   "source": [
    "!cd ../_publications/"
   ]
  },
  {
   "cell_type": "code",
   "execution_count": 9,
   "metadata": {},
   "outputs": [
    {
     "name": "stderr",
     "output_type": "stream",
     "text": [
      "The syntax of the command is incorrect.\n"
     ]
    }
   ],
   "source": [
    "!type ../_publications/2009-10-01-paper-title-number-1.md"
   ]
  },
  {
   "cell_type": "code",
   "execution_count": null,
   "metadata": {
    "collapsed": true
   },
   "outputs": [],
   "source": []
  }
 ],
 "metadata": {
  "kernelspec": {
   "display_name": "Python 3 (ipykernel)",
   "language": "python",
   "name": "python3"
  },
  "language_info": {
   "codemirror_mode": {
    "name": "ipython",
    "version": 3
   },
   "file_extension": ".py",
   "mimetype": "text/x-python",
   "name": "python",
   "nbconvert_exporter": "python",
   "pygments_lexer": "ipython3",
   "version": "3.9.15"
  }
 },
 "nbformat": 4,
 "nbformat_minor": 1
}
